{
  "nbformat": 4,
  "nbformat_minor": 0,
  "metadata": {
    "colab": {
      "provenance": [],
      "authorship_tag": "ABX9TyOadnK7DzCMJkUZx11PVVNS",
      "include_colab_link": true
    },
    "kernelspec": {
      "name": "python3",
      "display_name": "Python 3"
    },
    "language_info": {
      "name": "python"
    }
  },
  "cells": [
    {
      "cell_type": "markdown",
      "metadata": {
        "id": "view-in-github",
        "colab_type": "text"
      },
      "source": [
        "<a href=\"https://colab.research.google.com/github/Diegos2365/POO_COC2024-2/blob/main/POO_30ago24.ipynb\" target=\"_parent\"><img src=\"https://colab.research.google.com/assets/colab-badge.svg\" alt=\"Open In Colab\"/></a>"
      ]
    },
    {
      "cell_type": "markdown",
      "source": [
        "#Ex. 1) Converter F para C\n",
        "OBS:\n",
        "Entrada: F\n",
        "Processamento C = (5/9) (f-32)\n",
        "Saída: C"
      ],
      "metadata": {
        "id": "lda2P7rdhwOy"
      }
    },
    {
      "cell_type": "code",
      "source": [
        "F = float(input(\"Digite a temperatura em F: \"))\n",
        "C = (5/9)*(F-32)\n",
        "print(f\" O valor de {F} Graus Farenheit corresponde ao valor de {C} Graus Celsius\")"
      ],
      "metadata": {
        "colab": {
          "base_uri": "https://localhost:8080/"
        },
        "id": "B5zrzL2hfLm9",
        "outputId": "4e1aee3f-6d4b-4516-f2ef-53d11741bcac"
      },
      "execution_count": 5,
      "outputs": [
        {
          "output_type": "stream",
          "name": "stdout",
          "text": [
            "Digite a temperatura em F: 32\n",
            " O valor de 32.0 Graus Farenheit corresponde ao valor de 0.0 Graus Celsius\n"
          ]
        }
      ]
    },
    {
      "cell_type": "markdown",
      "source": [
        "#Ex02) Converter Polegadas para mm\n",
        "Entrada: P\n",
        "Processamento: mm = P*25.4 Saída: MM"
      ],
      "metadata": {
        "id": "uk8v7Hlii-A7"
      }
    },
    {
      "cell_type": "code",
      "source": [
        "P = float(input(\"Digite a medida em Polegadas: \") )\n",
        "MM = P*25.4\n",
        "print(f\"O valor de {P} polegadas corresponde a {MM} mm\")"
      ],
      "metadata": {
        "colab": {
          "base_uri": "https://localhost:8080/"
        },
        "id": "ysvxR1Msi9cq",
        "outputId": "1bccd344-3c64-45ce-cd2c-cb92ee806148"
      },
      "execution_count": 9,
      "outputs": [
        {
          "output_type": "stream",
          "name": "stdout",
          "text": [
            "Digite a medida em Polegadas: 1\n",
            "O valor de 1.0 polegadas corresponde a 25.4 mm\n"
          ]
        }
      ]
    },
    {
      "cell_type": "markdown",
      "source": [
        "#Ex.03 Converter mm para Polegadas\n",
        "Entrada: MM\n",
        "Processamento: P = mm/25.4\n",
        "Saída: P"
      ],
      "metadata": {
        "id": "VTNoKfjElZJ4"
      }
    },
    {
      "cell_type": "code",
      "source": [
        "MM = float(input(\"Digite a medida em mm: \"))\n",
        "P = MM/25.4\n",
        "print(f\"{MM} milimetros é igual a {P:.2f} polegadas.\")"
      ],
      "metadata": {
        "colab": {
          "base_uri": "https://localhost:8080/"
        },
        "id": "w4kAOL_6mBkf",
        "outputId": "dd0eb8c9-a3b9-4049-beb5-a104ca04d38f"
      },
      "execution_count": 10,
      "outputs": [
        {
          "output_type": "stream",
          "name": "stdout",
          "text": [
            "Digite a medida em mm: 25.4\n",
            "25.4 milimetros é igual a 1.00 polegadas.\n"
          ]
        }
      ]
    },
    {
      "cell_type": "markdown",
      "source": [
        "#PROGRAMA VERIFICADOR DE IDADE PARA VOTAÇÃO"
      ],
      "metadata": {
        "id": "zKmHvzUGoVh7"
      }
    },
    {
      "cell_type": "code",
      "source": [
        "#ENTRADA: Idade\n",
        "#SAÍDA: \"Pode votar ou não\"\n",
        "\n",
        "idade = int(input(\"Digite a sua idade:\"))\n",
        "if idade >= 18:\n",
        "    print(\"Pode votar\")\n",
        "else:\n",
        "    print(\"Não pode votar\")"
      ],
      "metadata": {
        "colab": {
          "base_uri": "https://localhost:8080/"
        },
        "id": "YcPpMO7ApF0j",
        "outputId": "baa60534-4c88-4dff-da7a-231e79759f53"
      },
      "execution_count": 14,
      "outputs": [
        {
          "output_type": "stream",
          "name": "stdout",
          "text": [
            "Digite a sua idade:9\n",
            "Não pode votar\n"
          ]
        }
      ]
    },
    {
      "cell_type": "markdown",
      "source": [
        "#EX 05 Receba o Raio de uma esfera e calcule para exibir o Volume\n",
        "Entrada: R\n",
        "Processamento: v = (4/3.0)*PI/(r*r*r)\n",
        "Saída: V\n"
      ],
      "metadata": {
        "id": "mIjKp0iYw11X"
      }
    },
    {
      "cell_type": "code",
      "source": [
        "import math\n",
        "\n",
        "raio = float(input(\"Digite o raio de esfera em unidades de comprimentos: \"))\n",
        "volume = (4/3) * math.pi * (raio ** 3)\n",
        "print(f\"O volume da esfera com raio {raio} é {volume:.2f} unidades cúbicas\")"
      ],
      "metadata": {
        "colab": {
          "base_uri": "https://localhost:8080/"
        },
        "id": "TYKcflXfyf1u",
        "outputId": "c6dd1caf-20d1-4624-a87b-ef28b67cac52"
      },
      "execution_count": 20,
      "outputs": [
        {
          "output_type": "stream",
          "name": "stdout",
          "text": [
            "Digite o raio de esfera em unidades de comprimentos: 360\n",
            "O volume da esfera com raio 360.0 é 195432195.79 unidades cúbicas\n"
          ]
        }
      ]
    },
    {
      "cell_type": "markdown",
      "source": [
        "#Ex06. Receba um ângulo em graus, e converta este valor para radianos.\n",
        "Entrada:G\n",
        "Processamento: g = r*180.0/PI\n",
        "Saída: R\n"
      ],
      "metadata": {
        "id": "PXinMyTZ1FBi"
      }
    },
    {
      "cell_type": "code",
      "source": [
        "import math\n",
        "\n",
        "graus = float(input(\"Digite o ângulo em graus \" ))\n",
        "radianos = graus * (math.pi / 180)\n",
        "print(f\"O ãngulo de {graus} é igual a {radianos:.4f} radianos\")"
      ],
      "metadata": {
        "colab": {
          "base_uri": "https://localhost:8080/"
        },
        "id": "VGva5ek71nkT",
        "outputId": "1d8e57e7-d612-423f-a273-6e25e69853f7"
      },
      "execution_count": 22,
      "outputs": [
        {
          "output_type": "stream",
          "name": "stdout",
          "text": [
            "Digite o ângulo em graus 360\n",
            "O ãngulo de 360.0 é igual a 6.2832 radianos\n"
          ]
        }
      ]
    }
  ]
}